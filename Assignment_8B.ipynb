{
 "cells": [
  {
   "cell_type": "code",
   "execution_count": 7,
   "metadata": {},
   "outputs": [
    {
     "data": {
      "text/html": [
       "<div>\n",
       "<style scoped>\n",
       "    .dataframe tbody tr th:only-of-type {\n",
       "        vertical-align: middle;\n",
       "    }\n",
       "\n",
       "    .dataframe tbody tr th {\n",
       "        vertical-align: top;\n",
       "    }\n",
       "\n",
       "    .dataframe thead th {\n",
       "        text-align: right;\n",
       "    }\n",
       "</style>\n",
       "<table border=\"1\" class=\"dataframe\">\n",
       "  <thead>\n",
       "    <tr style=\"text-align: right;\">\n",
       "      <th></th>\n",
       "      <th>Hour_1</th>\n",
       "      <th>Hour_2</th>\n",
       "    </tr>\n",
       "  </thead>\n",
       "  <tbody>\n",
       "    <tr>\n",
       "      <th>0</th>\n",
       "      <td>5551.82208</td>\n",
       "      <td>4983.17184</td>\n",
       "    </tr>\n",
       "    <tr>\n",
       "      <th>1</th>\n",
       "      <td>4983.17184</td>\n",
       "      <td>4888.39680</td>\n",
       "    </tr>\n",
       "    <tr>\n",
       "      <th>2</th>\n",
       "      <td>4888.39680</td>\n",
       "      <td>5072.95872</td>\n",
       "    </tr>\n",
       "    <tr>\n",
       "      <th>3</th>\n",
       "      <td>5072.95872</td>\n",
       "      <td>5196.25980</td>\n",
       "    </tr>\n",
       "    <tr>\n",
       "      <th>4</th>\n",
       "      <td>5196.25980</td>\n",
       "      <td>5641.29720</td>\n",
       "    </tr>\n",
       "  </tbody>\n",
       "</table>\n",
       "</div>"
      ],
      "text/plain": [
       "       Hour_1      Hour_2\n",
       "0  5551.82208  4983.17184\n",
       "1  4983.17184  4888.39680\n",
       "2  4888.39680  5072.95872\n",
       "3  5072.95872  5196.25980\n",
       "4  5196.25980  5641.29720"
      ]
     },
     "execution_count": 7,
     "metadata": {},
     "output_type": "execute_result"
    }
   ],
   "source": [
    "import pandas as pd\n",
    "import numpy as np\n",
    "data = pd.read_csv('load_data8.csv')\n",
    "data.head()\n"
   ]
  },
  {
   "cell_type": "code",
   "execution_count": 8,
   "metadata": {},
   "outputs": [],
   "source": [
    "from sklearn import preprocessing\n",
    "data= preprocessing.normalize(data)"
   ]
  },
  {
   "cell_type": "code",
   "execution_count": 9,
   "metadata": {},
   "outputs": [
    {
     "data": {
      "text/html": [
       "<div>\n",
       "<style scoped>\n",
       "    .dataframe tbody tr th:only-of-type {\n",
       "        vertical-align: middle;\n",
       "    }\n",
       "\n",
       "    .dataframe tbody tr th {\n",
       "        vertical-align: top;\n",
       "    }\n",
       "\n",
       "    .dataframe thead th {\n",
       "        text-align: right;\n",
       "    }\n",
       "</style>\n",
       "<table border=\"1\" class=\"dataframe\">\n",
       "  <thead>\n",
       "    <tr style=\"text-align: right;\">\n",
       "      <th></th>\n",
       "      <th>Hour_1</th>\n",
       "      <th>Hour_2</th>\n",
       "    </tr>\n",
       "  </thead>\n",
       "  <tbody>\n",
       "    <tr>\n",
       "      <th>0</th>\n",
       "      <td>0.744191</td>\n",
       "      <td>0.667967</td>\n",
       "    </tr>\n",
       "    <tr>\n",
       "      <th>1</th>\n",
       "      <td>0.713863</td>\n",
       "      <td>0.700286</td>\n",
       "    </tr>\n",
       "    <tr>\n",
       "      <th>2</th>\n",
       "      <td>0.693887</td>\n",
       "      <td>0.720084</td>\n",
       "    </tr>\n",
       "    <tr>\n",
       "      <th>3</th>\n",
       "      <td>0.698566</td>\n",
       "      <td>0.715545</td>\n",
       "    </tr>\n",
       "    <tr>\n",
       "      <th>4</th>\n",
       "      <td>0.677499</td>\n",
       "      <td>0.735524</td>\n",
       "    </tr>\n",
       "    <tr>\n",
       "      <th>...</th>\n",
       "      <td>...</td>\n",
       "      <td>...</td>\n",
       "    </tr>\n",
       "    <tr>\n",
       "      <th>2178</th>\n",
       "      <td>0.737048</td>\n",
       "      <td>0.675840</td>\n",
       "    </tr>\n",
       "    <tr>\n",
       "      <th>2179</th>\n",
       "      <td>0.711600</td>\n",
       "      <td>0.702585</td>\n",
       "    </tr>\n",
       "    <tr>\n",
       "      <th>2180</th>\n",
       "      <td>0.695158</td>\n",
       "      <td>0.718857</td>\n",
       "    </tr>\n",
       "    <tr>\n",
       "      <th>2181</th>\n",
       "      <td>0.675923</td>\n",
       "      <td>0.736973</td>\n",
       "    </tr>\n",
       "    <tr>\n",
       "      <th>2182</th>\n",
       "      <td>0.596030</td>\n",
       "      <td>0.802962</td>\n",
       "    </tr>\n",
       "  </tbody>\n",
       "</table>\n",
       "<p>2183 rows × 2 columns</p>\n",
       "</div>"
      ],
      "text/plain": [
       "        Hour_1    Hour_2\n",
       "0     0.744191  0.667967\n",
       "1     0.713863  0.700286\n",
       "2     0.693887  0.720084\n",
       "3     0.698566  0.715545\n",
       "4     0.677499  0.735524\n",
       "...        ...       ...\n",
       "2178  0.737048  0.675840\n",
       "2179  0.711600  0.702585\n",
       "2180  0.695158  0.718857\n",
       "2181  0.675923  0.736973\n",
       "2182  0.596030  0.802962\n",
       "\n",
       "[2183 rows x 2 columns]"
      ]
     },
     "execution_count": 9,
     "metadata": {},
     "output_type": "execute_result"
    }
   ],
   "source": [
    "data= pd.DataFrame(data=data, columns=[\"Hour_1\", \"Hour_2\"])\n",
    "data"
   ]
  },
  {
   "cell_type": "code",
   "execution_count": 10,
   "metadata": {
    "colab": {},
    "colab_type": "code",
    "id": "_FaQPFYntdQH"
   },
   "outputs": [],
   "source": [
    "from sklearn.model_selection import train_test_split\n",
    "x_train, x_test, y_train, y_test = train_test_split(data.Hour_1,data.Hour_2, test_size = 0.10, random_state = 42)"
   ]
  },
  {
   "cell_type": "code",
   "execution_count": 11,
   "metadata": {
    "colab": {},
    "colab_type": "code",
    "id": "Njw13YfXteVb"
   },
   "outputs": [
    {
     "name": "stdout",
     "output_type": "stream",
     "text": [
      "Iteration: 1\tValue of m: 0.955354488482584, \tValue of c: -0.0005794731473390713\n",
      "Iteration: 2\tValue of m: 0.5551306408007131, \tValue of c: 0.28862579124265647\n",
      "Iteration: 3\tValue of m: 0.23852052673674337, \tValue of c: 0.5174110379908721\n",
      "Iteration: 4\tValue of m: -0.011944219200333391, \tValue of c: 0.6983990612899807\n",
      "Iteration: 5\tValue of m: -0.21008251665424715, \tValue of c: 0.8415755337386974\n",
      "Iteration: 6\tValue of m: -0.36682627223172326, \tValue of c: 0.9548399469810024\n",
      "Iteration: 7\tValue of m: -0.4908235268172307, \tValue of c: 1.0444414512485343\n",
      "Iteration: 8\tValue of m: -0.5889155949069385, \tValue of c: 1.1153236404303122\n",
      "Iteration: 9\tValue of m: -0.6665145212241425, \tValue of c: 1.17139730553531\n",
      "Iteration: 10\tValue of m: -0.7279016800724605, \tValue of c: 1.2157562052053523\n",
      "Iteration: 11\tValue of m: -0.7764639920826089, \tValue of c: 1.2508477580091923\n",
      "Iteration: 12\tValue of m: -0.8148807911659147, \tValue of c: 1.278608074142918\n",
      "Iteration: 13\tValue of m: -0.8452716517060569, \tValue of c: 1.300568776655922\n",
      "Iteration: 14\tValue of m: -0.8693133320752996, \tValue of c: 1.3179415058619368\n",
      "Iteration: 15\tValue of m: -0.8883322866130755, \tValue of c: 1.3316847693065754\n",
      "Iteration: 16\tValue of m: -0.9033778502406796, \tValue of c: 1.3425568256121172\n",
      "Iteration: 17\tValue of m: -0.9152801335351003, \tValue of c: 1.3511575199659016\n",
      "Iteration: 18\tValue of m: -0.9246958225133924, \tValue of c: 1.357961379446423\n",
      "Iteration: 19\tValue of m: -0.9321444100442845, \tValue of c: 1.3633437941592914\n",
      "Iteration: 20\tValue of m: -0.9380368578867349, \tValue of c: 1.3676017286778128\n",
      "Iteration: 21\tValue of m: -0.9426982707293716, \tValue of c: 1.3709701065028577\n",
      "Iteration: 22\tValue of m: -0.9463858332280988, \tValue of c: 1.3736347715236352\n",
      "Iteration: 23\tValue of m: -0.9493029996840754, \tValue of c: 1.3757427416035217\n",
      "Iteration: 24\tValue of m: -0.9516107192508156, \tValue of c: 1.3774103200132113\n",
      "Iteration: 25\tValue of m: -0.9534363159999473, \tValue of c: 1.3787295122441592\n",
      "Iteration: 26\tValue of m: -0.9548805137865732, \tValue of c: 1.3797731022379385\n",
      "Iteration: 27\tValue of m: -0.956022993497871, \tValue of c: 1.380598668102841\n",
      "Iteration: 28\tValue of m: -0.9569267892956609, \tValue of c: 1.381251758877337\n",
      "Iteration: 29\tValue of m: -0.9576417664073092, \tValue of c: 1.3817684076123005\n",
      "Iteration: 30\tValue of m: -0.9582073723455429, \tValue of c: 1.3821771194265884\n",
      "Iteration: 31\tValue of m: -0.9586548133505121, \tValue of c: 1.3825004442231756\n",
      "Iteration: 32\tValue of m: -0.9590087761351924, \tValue of c: 1.3827562208374897\n",
      "Iteration: 33\tValue of m: -0.9592887899281749, \tValue of c: 1.382958561261483\n",
      "Iteration: 34\tValue of m: -0.9595103039620069, \tValue of c: 1.3831186292461661\n",
      "Iteration: 35\tValue of m: -0.9596855398554325, \tValue of c: 1.3832452562404904\n",
      "Iteration: 36\tValue of m: -0.95982416591814, \tValue of c: 1.383345428649878\n",
      "Iteration: 37\tValue of m: -0.959933830581504, \tValue of c: 1.3834246732979567\n",
      "Iteration: 38\tValue of m: -0.9600205843863476, \tValue of c: 1.3834873623586215\n",
      "Iteration: 39\tValue of m: -0.9600892138101231, \tValue of c: 1.3835369545824803\n",
      "Iteration: 40\tValue of m: -0.9601435053517576, \tValue of c: 1.3835761861268863\n",
      "Iteration: 41\tValue of m: -0.9601864544445957, \tValue of c: 1.3836072215182587\n",
      "Iteration: 42\tValue of m: -0.960220430723771, \tValue of c: 1.3836317730757404\n",
      "Iteration: 43\tValue of m: -0.9602473087663681, \tValue of c: 1.3836511953851818\n",
      "Iteration: 44\tValue of m: -0.9602685715176543, \tValue of c: 1.383666560035847\n",
      "Iteration: 45\tValue of m: -0.9602853921098039, \tValue of c: 1.3836787147433385\n",
      "Iteration: 46\tValue of m: -0.9602986985872398, \tValue of c: 1.3836883301207015\n",
      "Iteration: 47\tValue of m: -0.9603092251097426, \tValue of c: 1.3836959366782342\n",
      "Iteration: 48\tValue of m: -0.9603175524583261, \tValue of c: 1.383701954093395\n",
      "Iteration: 49\tValue of m: -0.9603241400787261, \tValue of c: 1.3837067143657042\n",
      "Iteration: 50\tValue of m: -0.9603293514304716, \tValue of c: 1.383710480134206\n",
      "Iteration: 51\tValue of m: -0.9603334740400538, \tValue of c: 1.383713459168067\n",
      "Iteration: 52\tValue of m: -0.9603367353646793, \tValue of c: 1.3837158158298606\n",
      "Iteration: 53\tValue of m: -0.9603393153417796, \tValue of c: 1.3837176801439528\n",
      "Iteration: 54\tValue of m: -0.9603413563167194, \tValue of c: 1.3837191549703542\n",
      "Iteration: 55\tValue of m: -0.9603429708964418, \tValue of c: 1.3837203216798302\n",
      "Iteration: 56\tValue of m: -0.9603442481623368, \tValue of c: 1.3837212446433746\n",
      "Iteration: 57\tValue of m: -0.9603452585851364, \tValue of c: 1.383721974783756\n",
      "Iteration: 58\tValue of m: -0.9603460579130098, \tValue of c: 1.3837225523850911\n",
      "Iteration: 59\tValue of m: -0.9603466902473663, \tValue of c: 1.3837230093154462\n",
      "Iteration: 60\tValue of m: -0.9603471904760595, \tValue of c: 1.3837233707850896\n",
      "Iteration: 61\tValue of m: -0.9603475861982681, \tValue of c: 1.3837236567374303\n",
      "Iteration: 62\tValue of m: -0.960347899247214, \tValue of c: 1.3837238829493455\n",
      "Iteration: 63\tValue of m: -0.9603481468947814, \tValue of c: 1.3837240619016509\n",
      "Iteration: 64\tValue of m: -0.9603483428044578, \tValue of c: 1.3837242034677022\n",
      "Iteration: 65\tValue of m: -0.9603484977851896, \tValue of c: 1.383724315458139\n",
      "Iteration: 66\tValue of m: -0.9603486203877433, \tValue of c: 1.3837244040518202\n",
      "Iteration: 67\tValue of m: -0.9603487173764923, \tValue of c: 1.3837244741367416\n",
      "Iteration: 68\tValue of m: -0.9603487941025992, \tValue of c: 1.3837245295796992\n",
      "Iteration: 69\tValue of m: -0.960348854799285, \tValue of c: 1.3837245734396568\n",
      "Iteration: 70\tValue of m: -0.9603489028153779, \tValue of c: 1.383724608136507\n",
      "Iteration: 71\tValue of m: -0.9603489408000737, \tValue of c: 1.383724635584582\n",
      "Iteration: 72\tValue of m: -0.9603489708491043, \tValue of c: 1.3837246572982749\n",
      "Iteration: 73\tValue of m: -0.9603489946203705, \tValue of c: 1.3837246744756009\n",
      "Iteration: 74\tValue of m: -0.9603490134254007, \tValue of c: 1.3837246880642804\n",
      "Iteration: 75\tValue of m: -0.9603490283017366, \tValue of c: 1.3837246988140515\n",
      "Iteration: 76\tValue of m: -0.9603490400701428, \tValue of c: 1.3837247073180048\n",
      "Iteration: 77\tValue of m: -0.9603490493799258, \tValue of c: 1.3837247140453355\n",
      "Iteration: 78\tValue of m: -0.9603490567447324, \tValue of c: 1.3837247193672093\n",
      "Iteration: 79\tValue of m: -0.9603490625709036, \tValue of c: 1.383724723577252\n",
      "Iteration: 80\tValue of m: -0.9603490671798868, \tValue of c: 1.3837247269077437\n",
      "Iteration: 81\tValue of m: -0.9603490708259746, \tValue of c: 1.3837247295424389\n",
      "Iteration: 82\tValue of m: -0.960349073710329, \tValue of c: 1.3837247316266985\n",
      "Iteration: 83\tValue of m: -0.960349075992088, \tValue of c: 1.383724733275518\n",
      "Iteration: 84\tValue of m: -0.960349077797152, \tValue of c: 1.3837247345798729\n",
      "Iteration: 85\tValue of m: -0.9603490792251065, \tValue of c: 1.3837247356117253\n",
      "Iteration: 86\tValue of m: -0.9603490803547348, \tValue of c: 1.3837247364280045\n",
      "Iteration: 87\tValue of m: -0.9603490812483648, \tValue of c: 1.3837247370737493\n",
      "Iteration: 88\tValue of m: -0.9603490819552997, \tValue of c: 1.3837247375845865\n",
      "Iteration: 89\tValue of m: -0.9603490825145456, \tValue of c: 1.3837247379887028\n",
      "Iteration: 90\tValue of m: -0.9603490829569521, \tValue of c: 1.38372473830839\n",
      "Iteration: 91\tValue of m: -0.9603490833069335, \tValue of c: 1.383724738561289\n",
      "Iteration: 92\tValue of m: -0.960349083583798, \tValue of c: 1.3837247387613536\n",
      "Iteration: 93\tValue of m: -0.9603490838028202, \tValue of c: 1.383724738919621\n",
      "Iteration: 94\tValue of m: -0.9603490839760823, \tValue of c: 1.3837247390448222\n",
      "Iteration: 95\tValue of m: -0.9603490841131511, \tValue of c: 1.383724739143869\n",
      "Iteration: 96\tValue of m: -0.9603490842215816, \tValue of c: 1.383724739222222\n",
      "Iteration: 97\tValue of m: -0.9603490843073587, \tValue of c: 1.3837247392842054\n",
      "Iteration: 98\tValue of m: -0.9603490843752173, \tValue of c: 1.3837247393332401\n",
      "Iteration: 99\tValue of m: -0.960349084428898, \tValue of c: 1.3837247393720307\n",
      "Iteration: 100\tValue of m: -0.9603490844713624, \tValue of c: 1.3837247394027157\n"
     ]
    }
   ],
   "source": [
    "m = 1 #Initial value of slope\n",
    "c = -1 #Initial value of intercept\n",
    "lr = 0.01 #Learning Rate\n",
    "delta_m = 1 #Initialising Δm\n",
    "delta_c = 1 #Initialising Δc\n",
    "v_m = 0\n",
    "v_c = 0\n",
    "lam = 0.9\n",
    "max_iters = 100 #Maximum number of iterations  \n",
    "iters_count = 0 #Counting Iterations\n",
    "\n",
    "\n",
    "def deriv(m_f, c_f, x, y, v1, v2):\n",
    "    global lam\n",
    "    m_deriv = -1 * (y - (m_f - lam * v1) * x - c_f + lam * v2) * x\n",
    "    c_deriv = -1 * (y - (m_f - lam * v1) * x - c_f + lam * v2)\n",
    "    return m_deriv, c_deriv  \n",
    "\n",
    "\n",
    "while iters_count < max_iters:\n",
    "    for i in range(x_train.shape[0]):\n",
    "        delta_m, delta_c = deriv(m, c, x_train.iloc[i], y_train.iloc[i], v_m, v_c)\n",
    "        v_m = lam * v_m - lr * delta_m\n",
    "        v_c = lam * v_c - lr * delta_c\n",
    "        m += v_m\n",
    "        c += v_c\n",
    "    iters_count += 1\n",
    "    print(f\"Iteration: {iters_count}\\tValue of m: {m}, \\tValue of c: {c}\")"
   ]
  },
  {
   "cell_type": "code",
   "execution_count": 12,
   "metadata": {
    "colab": {
     "base_uri": "https://localhost:8080/",
     "height": 51
    },
    "colab_type": "code",
    "id": "bBs4Sz35-MHK",
    "outputId": "3bc6ac63-336e-4126-ac83-28582752dcd2"
   },
   "outputs": [
    {
     "name": "stdout",
     "output_type": "stream",
     "text": [
      "\n",
      "The local minima occurs at: -0.9603490844713624, 1.3837247394027157\n"
     ]
    }
   ],
   "source": [
    "print(f\"\\nThe local minima occurs at: {m}, {c}\")"
   ]
  },
  {
   "cell_type": "code",
   "execution_count": 13,
   "metadata": {
    "colab": {},
    "colab_type": "code",
    "id": "TP4i7ucLtjuX"
   },
   "outputs": [],
   "source": [
    "import numpy as np\n",
    "\n",
    "x_train = np.array(x_train)\n",
    "y_train = np.array(y_train)\n",
    "x_test = np.array(x_test)\n",
    "y_test = np.array(y_test)"
   ]
  },
  {
   "cell_type": "code",
   "execution_count": 14,
   "metadata": {
    "colab": {},
    "colab_type": "code",
    "id": "3p0sn6oDtmUX"
   },
   "outputs": [],
   "source": [
    "y_pred_train = []\n",
    "for i in x_train:\n",
    "    y_p_tr = (m * i) + c\n",
    "    y_pred_train.append(y_p_tr)\n",
    "y_pred_train = np.array(y_pred_train)"
   ]
  },
  {
   "cell_type": "code",
   "execution_count": 15,
   "metadata": {
    "colab": {},
    "colab_type": "code",
    "id": "OtfMlnErto0h"
   },
   "outputs": [],
   "source": [
    "y_pred_test = []\n",
    "for i in x_test:\n",
    "    y_p_te = (m * i) + c\n",
    "    y_pred_test.append(y_p_te)\n",
    "y_pred_test = np.array(y_pred_test)"
   ]
  },
  {
   "cell_type": "code",
   "execution_count": 16,
   "metadata": {
    "colab": {
     "base_uri": "https://localhost:8080/",
     "height": 68
    },
    "colab_type": "code",
    "id": "YfrgcC2gtp1f",
    "outputId": "b1282804-b6bf-40bd-a14f-dbd81d992380"
   },
   "outputs": [],
   "source": [
    "import math\n",
    "from sklearn.metrics import mean_squared_error \n",
    "from sklearn.metrics import mean_absolute_error\n",
    "\n",
    "\n",
    "def accuracy_op(y_train,y_pred):\n",
    "    mse = math.sqrt(mean_squared_error(y_train,y_pred)) \n",
    "    print('Root mean square error', mse) \n",
    "    mse = (mean_squared_error(y_train,y_pred)) \n",
    "    print('Mean square error', mse) \n",
    "    mae=mean_absolute_error(y_train, y_pred)\n",
    "    print('Mean absolute error', mae)"
   ]
  },
  {
   "cell_type": "code",
   "execution_count": 17,
   "metadata": {
    "colab": {
     "base_uri": "https://localhost:8080/",
     "height": 68
    },
    "colab_type": "code",
    "id": "5MHCLwB8tryc",
    "outputId": "b9163ab5-a0e1-4d09-f620-9cc2c54912f7"
   },
   "outputs": [
    {
     "name": "stdout",
     "output_type": "stream",
     "text": [
      "Root mean square error 0.005950290804951642\n",
      "Mean square error 3.540596066349206e-05\n",
      "Mean absolute error 0.0029926952395955045\n",
      "None\n"
     ]
    }
   ],
   "source": [
    "print(accuracy_op(y_train,y_pred_train))"
   ]
  },
  {
   "cell_type": "code",
   "execution_count": 18,
   "metadata": {
    "colab": {},
    "colab_type": "code",
    "id": "Tf8ad18XFKhb"
   },
   "outputs": [
    {
     "name": "stdout",
     "output_type": "stream",
     "text": [
      "Root mean square error 0.0035568737725248795\n",
      "Mean square error 1.2651351033675367e-05\n",
      "Mean absolute error 0.0024522816993158454\n",
      "None\n"
     ]
    }
   ],
   "source": [
    "print(accuracy_op(y_test,y_pred_test))"
   ]
  },
  {
   "cell_type": "code",
   "execution_count": null,
   "metadata": {},
   "outputs": [],
   "source": []
  }
 ],
 "metadata": {
  "colab": {
   "authorship_tag": "ABX9TyO665meeVwHN+6NsVckxfmW",
   "name": "Assignement-8B.ipynb",
   "provenance": []
  },
  "kernelspec": {
   "display_name": "Python 3",
   "language": "python",
   "name": "python3"
  },
  "language_info": {
   "codemirror_mode": {
    "name": "ipython",
    "version": 3
   },
   "file_extension": ".py",
   "mimetype": "text/x-python",
   "name": "python",
   "nbconvert_exporter": "python",
   "pygments_lexer": "ipython3",
   "version": "3.7.6"
  }
 },
 "nbformat": 4,
 "nbformat_minor": 1
}
