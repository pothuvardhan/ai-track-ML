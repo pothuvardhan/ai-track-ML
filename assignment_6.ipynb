{
 "cells": [
  {
   "cell_type": "code",
   "execution_count": 1,
   "metadata": {},
   "outputs": [
    {
     "data": {
      "text/html": [
       "<div>\n",
       "<style scoped>\n",
       "    .dataframe tbody tr th:only-of-type {\n",
       "        vertical-align: middle;\n",
       "    }\n",
       "\n",
       "    .dataframe tbody tr th {\n",
       "        vertical-align: top;\n",
       "    }\n",
       "\n",
       "    .dataframe thead th {\n",
       "        text-align: right;\n",
       "    }\n",
       "</style>\n",
       "<table border=\"1\" class=\"dataframe\">\n",
       "  <thead>\n",
       "    <tr style=\"text-align: right;\">\n",
       "      <th></th>\n",
       "      <th>id</th>\n",
       "      <th>date</th>\n",
       "      <th>price</th>\n",
       "      <th>bedrooms</th>\n",
       "      <th>bathrooms</th>\n",
       "      <th>sqft_living</th>\n",
       "      <th>sqft_lot</th>\n",
       "      <th>floors</th>\n",
       "      <th>waterfront</th>\n",
       "      <th>view</th>\n",
       "      <th>...</th>\n",
       "      <th>grade</th>\n",
       "      <th>sqft_above</th>\n",
       "      <th>sqft_basement</th>\n",
       "      <th>yr_built</th>\n",
       "      <th>yr_renovated</th>\n",
       "      <th>zipcode</th>\n",
       "      <th>lat</th>\n",
       "      <th>long</th>\n",
       "      <th>sqft_living15</th>\n",
       "      <th>sqft_lot15</th>\n",
       "    </tr>\n",
       "  </thead>\n",
       "  <tbody>\n",
       "    <tr>\n",
       "      <th>0</th>\n",
       "      <td>7129300520</td>\n",
       "      <td>20141013T000000</td>\n",
       "      <td>221900.0</td>\n",
       "      <td>3</td>\n",
       "      <td>1.00</td>\n",
       "      <td>1180</td>\n",
       "      <td>5650</td>\n",
       "      <td>1.0</td>\n",
       "      <td>0</td>\n",
       "      <td>0</td>\n",
       "      <td>...</td>\n",
       "      <td>7</td>\n",
       "      <td>1180</td>\n",
       "      <td>0</td>\n",
       "      <td>1955</td>\n",
       "      <td>0</td>\n",
       "      <td>98178</td>\n",
       "      <td>47.5112</td>\n",
       "      <td>-122.257</td>\n",
       "      <td>1340</td>\n",
       "      <td>5650</td>\n",
       "    </tr>\n",
       "    <tr>\n",
       "      <th>1</th>\n",
       "      <td>6414100192</td>\n",
       "      <td>20141209T000000</td>\n",
       "      <td>538000.0</td>\n",
       "      <td>3</td>\n",
       "      <td>2.25</td>\n",
       "      <td>2570</td>\n",
       "      <td>7242</td>\n",
       "      <td>2.0</td>\n",
       "      <td>0</td>\n",
       "      <td>0</td>\n",
       "      <td>...</td>\n",
       "      <td>7</td>\n",
       "      <td>2170</td>\n",
       "      <td>400</td>\n",
       "      <td>1951</td>\n",
       "      <td>1991</td>\n",
       "      <td>98125</td>\n",
       "      <td>47.7210</td>\n",
       "      <td>-122.319</td>\n",
       "      <td>1690</td>\n",
       "      <td>7639</td>\n",
       "    </tr>\n",
       "    <tr>\n",
       "      <th>2</th>\n",
       "      <td>5631500400</td>\n",
       "      <td>20150225T000000</td>\n",
       "      <td>180000.0</td>\n",
       "      <td>2</td>\n",
       "      <td>1.00</td>\n",
       "      <td>770</td>\n",
       "      <td>10000</td>\n",
       "      <td>1.0</td>\n",
       "      <td>0</td>\n",
       "      <td>0</td>\n",
       "      <td>...</td>\n",
       "      <td>6</td>\n",
       "      <td>770</td>\n",
       "      <td>0</td>\n",
       "      <td>1933</td>\n",
       "      <td>0</td>\n",
       "      <td>98028</td>\n",
       "      <td>47.7379</td>\n",
       "      <td>-122.233</td>\n",
       "      <td>2720</td>\n",
       "      <td>8062</td>\n",
       "    </tr>\n",
       "    <tr>\n",
       "      <th>3</th>\n",
       "      <td>2487200875</td>\n",
       "      <td>20141209T000000</td>\n",
       "      <td>604000.0</td>\n",
       "      <td>4</td>\n",
       "      <td>3.00</td>\n",
       "      <td>1960</td>\n",
       "      <td>5000</td>\n",
       "      <td>1.0</td>\n",
       "      <td>0</td>\n",
       "      <td>0</td>\n",
       "      <td>...</td>\n",
       "      <td>7</td>\n",
       "      <td>1050</td>\n",
       "      <td>910</td>\n",
       "      <td>1965</td>\n",
       "      <td>0</td>\n",
       "      <td>98136</td>\n",
       "      <td>47.5208</td>\n",
       "      <td>-122.393</td>\n",
       "      <td>1360</td>\n",
       "      <td>5000</td>\n",
       "    </tr>\n",
       "    <tr>\n",
       "      <th>4</th>\n",
       "      <td>1954400510</td>\n",
       "      <td>20150218T000000</td>\n",
       "      <td>510000.0</td>\n",
       "      <td>3</td>\n",
       "      <td>2.00</td>\n",
       "      <td>1680</td>\n",
       "      <td>8080</td>\n",
       "      <td>1.0</td>\n",
       "      <td>0</td>\n",
       "      <td>0</td>\n",
       "      <td>...</td>\n",
       "      <td>8</td>\n",
       "      <td>1680</td>\n",
       "      <td>0</td>\n",
       "      <td>1987</td>\n",
       "      <td>0</td>\n",
       "      <td>98074</td>\n",
       "      <td>47.6168</td>\n",
       "      <td>-122.045</td>\n",
       "      <td>1800</td>\n",
       "      <td>7503</td>\n",
       "    </tr>\n",
       "  </tbody>\n",
       "</table>\n",
       "<p>5 rows × 21 columns</p>\n",
       "</div>"
      ],
      "text/plain": [
       "           id             date     price  bedrooms  bathrooms  sqft_living  \\\n",
       "0  7129300520  20141013T000000  221900.0         3       1.00         1180   \n",
       "1  6414100192  20141209T000000  538000.0         3       2.25         2570   \n",
       "2  5631500400  20150225T000000  180000.0         2       1.00          770   \n",
       "3  2487200875  20141209T000000  604000.0         4       3.00         1960   \n",
       "4  1954400510  20150218T000000  510000.0         3       2.00         1680   \n",
       "\n",
       "   sqft_lot  floors  waterfront  view  ...  grade  sqft_above  sqft_basement  \\\n",
       "0      5650     1.0           0     0  ...      7        1180              0   \n",
       "1      7242     2.0           0     0  ...      7        2170            400   \n",
       "2     10000     1.0           0     0  ...      6         770              0   \n",
       "3      5000     1.0           0     0  ...      7        1050            910   \n",
       "4      8080     1.0           0     0  ...      8        1680              0   \n",
       "\n",
       "   yr_built  yr_renovated  zipcode      lat     long  sqft_living15  \\\n",
       "0      1955             0    98178  47.5112 -122.257           1340   \n",
       "1      1951          1991    98125  47.7210 -122.319           1690   \n",
       "2      1933             0    98028  47.7379 -122.233           2720   \n",
       "3      1965             0    98136  47.5208 -122.393           1360   \n",
       "4      1987             0    98074  47.6168 -122.045           1800   \n",
       "\n",
       "   sqft_lot15  \n",
       "0        5650  \n",
       "1        7639  \n",
       "2        8062  \n",
       "3        5000  \n",
       "4        7503  \n",
       "\n",
       "[5 rows x 21 columns]"
      ]
     },
     "execution_count": 1,
     "metadata": {},
     "output_type": "execute_result"
    }
   ],
   "source": [
    "import pandas as pd\n",
    "\n",
    "data= pd.read_csv(\"kc_house_data.csv\")\n",
    "data.head()"
   ]
  },
  {
   "cell_type": "code",
   "execution_count": 2,
   "metadata": {},
   "outputs": [],
   "source": [
    "data=data.iloc[:,[2,5]].values"
   ]
  },
  {
   "cell_type": "code",
   "execution_count": 3,
   "metadata": {},
   "outputs": [],
   "source": [
    "from sklearn.preprocessing import StandardScaler\n",
    "\n",
    "scaler = StandardScaler()\n",
    "data = scaler.fit_transform(data)"
   ]
  },
  {
   "cell_type": "code",
   "execution_count": 4,
   "metadata": {},
   "outputs": [
    {
     "name": "stdout",
     "output_type": "stream",
     "text": [
      "[-0.97983502  0.53363434 -1.42625404 ... -1.15404732 -0.52252773\n",
      " -1.15404732]\n"
     ]
    }
   ],
   "source": [
    "x=data[:,0]\n",
    "y=data[:,1]\n",
    "print(y)"
   ]
  },
  {
   "cell_type": "code",
   "execution_count": 5,
   "metadata": {},
   "outputs": [],
   "source": [
    "from sklearn.model_selection import train_test_split\n",
    "x_train, x_test, y_train, y_test = train_test_split(x,y, test_size = 0.10, random_state = 42)"
   ]
  },
  {
   "cell_type": "code",
   "execution_count": 6,
   "metadata": {},
   "outputs": [],
   "source": [
    "batch_size = 32\n",
    "n_minibatches = x_train.shape[0] // batch_size\n",
    "\n",
    "def create_mini_batches(x_tr, y_tr, batch_size):\n",
    "    mini_batches = [] \n",
    "    global n_minibatches\n",
    "    for i in range(n_minibatches + 1): \n",
    "        X_mini = x_tr[i * batch_size : (i + 1) * batch_size]\n",
    "        Y_mini = y_tr[i * batch_size : (i + 1) * batch_size]\n",
    "        mini_batches.append((X_mini, Y_mini)) \n",
    "        if x_tr.shape[0] % batch_size != 0:\n",
    "            X_mini = x_tr[i * batch_size: x_tr.shape[0]]\n",
    "            Y_mini  = y_tr[i * batch_size: y_tr.shape[0]]\n",
    "        mini_batches.append((X_mini,Y_mini)) \n",
    "    return mini_batches \n",
    "\n",
    "mini_batches_all = create_mini_batches(x_train, y_train, batch_size)"
   ]
  },
  {
   "cell_type": "code",
   "execution_count": 7,
   "metadata": {},
   "outputs": [
    {
     "name": "stdout",
     "output_type": "stream",
     "text": [
      "Iteration: 1\tValue of m: 0.8216742849995335, \tValue of c: -0.36773369499839675\n",
      "Iteration: 2\tValue of m: 0.7590265796907971, \tValue of c: -0.11982225937295118\n",
      "Iteration: 3\tValue of m: 0.7373610755254929, \tValue of c: -0.022508643098931004\n",
      "Iteration: 4\tValue of m: 0.7300225997319987, \tValue of c: 0.015733527105392834\n",
      "Iteration: 5\tValue of m: 0.7276072221606248, \tValue of c: 0.030779275066847574\n",
      "Iteration: 6\tValue of m: 0.726844957112927, \tValue of c: 0.036705755757572435\n",
      "Iteration: 7\tValue of m: 0.7266200788602646, \tValue of c: 0.03904297934951543\n",
      "Iteration: 8\tValue of m: 0.7265615750037493, \tValue of c: 0.0399658296919804\n",
      "Iteration: 9\tValue of m: 0.72655054523204, \tValue of c: 0.040330664326713846\n",
      "Iteration: 10\tValue of m: 0.7265510062489116, \tValue of c: 0.04047507506676204\n",
      "\n",
      "The local minima occurs at: 0.7265510062489116, 0.04047507506676204\n"
     ]
    }
   ],
   "source": [
    "m=1\n",
    "c = -1 \n",
    "lr = 0.1 \n",
    "delta_m = 1 \n",
    "delta_c = 1 \n",
    "max_iters = 10 \n",
    "iters_count = 0 \n",
    "\n",
    "\n",
    "def deriv(m_f, c_f, datax, datay):\n",
    "    m_deriv = 0\n",
    "    c_deriv = 0\n",
    "    for i in range(datax.shape[0]):\n",
    "        x, y = datax[i], datay[i]\n",
    "        m_deriv += (y-m_f*x-c_f)*x\n",
    "        c_deriv += (y-m_f*x-c_f)\n",
    "        m_deriv = -m_deriv/len(datax)\n",
    "        c_deriv = -c_deriv/len(datay)\n",
    "    return m_deriv, c_deriv  \n",
    "\n",
    "\n",
    "while iters_count < max_iters:\n",
    "    for i in range(n_minibatches):\n",
    "        x_b, y_b = mini_batches_all[i]\n",
    "        delta_m, delta_c = deriv(m, c, x_b, y_b)\n",
    "        delta_m = -lr * delta_m\n",
    "        delta_c = -lr * delta_c\n",
    "        m += delta_m\n",
    "        c += delta_c\n",
    "    iters_count += 1\n",
    "    print(f\"Iteration: {iters_count}\\tValue of m: {m}, \\tValue of c: {c}\")\n",
    "\n",
    "print(f\"\\nThe local minima occurs at: {m}, {c}\")\n"
   ]
  },
  {
   "cell_type": "code",
   "execution_count": 10,
   "metadata": {},
   "outputs": [],
   "source": [
    "\n",
    "y_pred_train = []\n",
    "for i in x_train:\n",
    "    y_p_tr = (m * i) - c\n",
    "    y_pred_train.append(y_p_tr)\n",
    "y_pred_train = y_pred_train"
   ]
  },
  {
   "cell_type": "code",
   "execution_count": 12,
   "metadata": {},
   "outputs": [],
   "source": [
    "y_pred_test = []\n",
    "for i in x_test:\n",
    "    y_p_te = (m * i) - c\n",
    "    y_pred_test.append(y_p_te)\n",
    "y_pred_test =y_pred_test"
   ]
  },
  {
   "cell_type": "code",
   "execution_count": 13,
   "metadata": {},
   "outputs": [
    {
     "name": "stdout",
     "output_type": "stream",
     "text": [
      "Root mean square error 0.7123353408387804\n",
      "Mean square error 0.5074216378079014\n",
      "Mean absolute error 0.5486292016154564\n"
     ]
    }
   ],
   "source": [
    "import math\n",
    "from sklearn.metrics import mean_squared_error \n",
    "from sklearn.metrics import mean_absolute_error\n",
    "# train\n",
    "mse = math.sqrt(mean_squared_error(y_train, y_pred_train)) \n",
    "print('Root mean square error', mse) \n",
    "mse = (mean_squared_error(y_train, y_pred_train)) \n",
    "print('Mean square error', mse) \n",
    "mae=mean_absolute_error(y_train, y_pred_train)\n",
    "print('Mean absolute error', mae)"
   ]
  },
  {
   "cell_type": "code",
   "execution_count": 14,
   "metadata": {},
   "outputs": [
    {
     "name": "stdout",
     "output_type": "stream",
     "text": [
      "Root mean square error 0.7259885373108695\n",
      "Mean square error 0.5270593563067758\n",
      "Mean absolute error 0.5527399600306773\n"
     ]
    }
   ],
   "source": [
    "#test\n",
    "mse = math.sqrt(mean_squared_error(y_test, y_pred_test)) \n",
    "print('Root mean square error', mse) \n",
    "mse = (mean_squared_error(y_test, y_pred_test)) \n",
    "print('Mean square error', mse) \n",
    "mae=mean_absolute_error(y_test, y_pred_test)\n",
    "print('Mean absolute error', mae)"
   ]
  },
  {
   "cell_type": "code",
   "execution_count": null,
   "metadata": {},
   "outputs": [],
   "source": []
  }
 ],
 "metadata": {
  "kernelspec": {
   "display_name": "Python 3",
   "language": "python",
   "name": "python3"
  },
  "language_info": {
   "codemirror_mode": {
    "name": "ipython",
    "version": 3
   },
   "file_extension": ".py",
   "mimetype": "text/x-python",
   "name": "python",
   "nbconvert_exporter": "python",
   "pygments_lexer": "ipython3",
   "version": "3.7.4"
  }
 },
 "nbformat": 4,
 "nbformat_minor": 2
}
